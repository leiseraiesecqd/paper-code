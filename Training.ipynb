{
 "cells": [
  {
   "cell_type": "code",
   "execution_count": 24,
   "metadata": {},
   "outputs": [],
   "source": [
    "import Ipynb_importer\n",
    "from preprocess import *\n",
    "import pandas as pd\n",
    "from utils import *\n",
    "import copy\n",
    "inputPath = './raw_dir/'\n",
    "midPath = './mid_dir/'\n",
    "trainR1path = inputPath + 'round1/train/'\n",
    "testR1path = inputPath + 'round1/test/'\n",
    "trainR2path = inputPath + 'round2/train/'\n",
    "testR2path = inputPath + 'round2/test/'\n",
    "\n",
    "fileList=nameList\n",
    "\n",
    "\n",
    "class Training():\n",
    "    def __init__(self):\n",
    "        pass\n",
    "    \n",
    "    \n",
    "    def prepareData(self):\n",
    "\n",
    "        for (path,flag) in zip([trainR1path,testR1path,trainR2path,testR2path],['R1train','R1test','R2train','R2test']):\n",
    "            print('===============(%s,%s)========================\\n\\n'%(path,flag))\n",
    "            MID=Preprocess(path,fileList)\n",
    "            MID.Basedata()\n",
    "            MID.Middata(midPath,flag)\n",
    "            print('\\n\\n==================(%s,%s) done==============\\n\\n'%(path,flag))\n",
    "\n",
    "        data1=pd.read_csv(midPath+'midR1test.csv',encoding='gbk',engine='python')\n",
    "        data2=pd.read_csv(midPath+'midR2test.csv',encoding='utf-8',engine='python')\n",
    "        testdata=pd.concat([data1,data2])\n",
    "        testdata['flag']='test'\n",
    "\n",
    "        data3=pd.read_csv(midPath+'midR1train.csv',encoding='gbk',engine='python')\n",
    "        data4=pd.read_csv(midPath+'midR2train.csv',encoding='gbk',engine='python')\n",
    "        T=pd.concat([data3,data4])\n",
    "        traindata=copy.deepcopy(T)\n",
    "        traindata['flag']='train'\n",
    "        traindata.drop(['L1','L2'],axis=1,inplace=True)\n",
    "\n",
    "\n",
    "        combine = pd.concat([traindata,testdata])\n",
    "        print('...start encoding.....')\n",
    "        afterencode=Encode(combine,combine,encodeList)\n",
    "        print('.. encoding done!.....')\n",
    "\n",
    "        trainset=afterencode[afterencode['flag']=='train']\n",
    "        testset=afterencode[afterencode['flag']=='test']\n",
    "        trainset=pd.concat([trainset,T[['L1','L2']]],axis=1)\n",
    "\n",
    "        trainset.to_csv(midPath+'trainset.csv',index=False)\n",
    "        testset.to_csv(midPath+'testset.csv',index=False)\n"
   ]
  }
 ],
 "metadata": {
  "kernelspec": {
   "display_name": "Python 3",
   "language": "python",
   "name": "python3"
  },
  "language_info": {
   "codemirror_mode": {
    "name": "ipython",
    "version": 3
   },
   "file_extension": ".py",
   "mimetype": "text/x-python",
   "name": "python",
   "nbconvert_exporter": "python",
   "pygments_lexer": "ipython3",
   "version": "3.6.5"
  }
 },
 "nbformat": 4,
 "nbformat_minor": 2
}
