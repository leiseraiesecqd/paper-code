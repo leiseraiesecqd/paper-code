{
 "cells": [
  {
   "cell_type": "code",
   "execution_count": 1,
   "metadata": {},
   "outputs": [],
   "source": [
    "# -*- coding: utf-8 -*-\n",
    "from pandas import DataFrame,Series\n",
    "import numpy as np\n",
    "import pandas as pd\n",
    "import os\n",
    "from sklearn.preprocessing import LabelEncoder\n",
    "import copy\n",
    "import time\n",
    "\n",
    "'''\n",
    "转时间戳函数\n",
    "'''\n",
    "def str2stamp(cmnttime):   \n",
    "    try:\n",
    "        cmnttime=cmnttime.apply(lambda x: x if len(x)<=10 else x[0:4]+'/'+x[5:7]+'/'+x[8:10])\n",
    "        cmnttime=pd.to_datetime(cmnttime,format=\"%Y/%m/%d\")\n",
    "    except Exception as e:\n",
    "        print(e)\n",
    "    return cmnttime\n",
    "\n",
    "\n",
    "\n",
    "\n",
    "encodeList=['种类_x',  '实收资金', '企业类型代码',\n",
    "           '所属行业代码', '发证机关名称', '行政区划', '是否有经纬度',  '法定代表人证件名称',\n",
    "           '登记注册类型_x', '审核结果', '审核单位',  '纳税人状态', '登记注册类型_y', '管理机构',\n",
    "           '数据来源',  '审批类别',   '地方编码', \n",
    "           '种类_y', '许可证编号', '许可证名称', '注（撤、吊）销原因',\n",
    "           '注（撤、吊）销批准机关全称', '权力编码', '年检年度', '年检结果', '年检事项名称', '种类', '资质名称',\n",
    "           '认定机关全称', 'dp1', 'dp2', 'dp3', 'dp4', 'dp5', 'dp6', 'dp7', 'dp8',     \n",
    "          '税务管理码_x', '税务管理码_y','统一社会信用代码','法定代表人姓名','纳税人识别号_y','纳税人识别号_x','行政许可编码','法定代表人名称',\n",
    "     '行政相对人名称','被处罚的自然人身份证号','被处罚的企业法定代表人身份证号'\n",
    "           ]\n",
    "\n",
    "\n",
    "\n",
    "def Encode(traindata,data,encodeList):\n",
    "        import copy\n",
    "        rawdata=copy.deepcopy(data)\n",
    "        for item in encodeList:\n",
    "            le = LabelEncoder()\n",
    "            #print(item)\n",
    "            traindata[item]=traindata[item].astype(str)\n",
    "            traindata[item].fillna('0000',inplace=True)\n",
    "            rawdata[item]=rawdata[item].astype(str)\n",
    "            rawdata[item].fillna('0000',inplace=True)\n",
    "            try:\n",
    "                le.fit(traindata[item])\n",
    "                rawdata[item]=le.transform(rawdata[[item]])\n",
    "            except Exception as e: \n",
    "                print(e)\n",
    "                print(item)\n",
    "\n",
    "        return rawdata"
   ]
  }
 ],
 "metadata": {
  "kernelspec": {
   "display_name": "Python 3",
   "language": "python",
   "name": "python3"
  },
  "language_info": {
   "codemirror_mode": {
    "name": "ipython",
    "version": 3
   },
   "file_extension": ".py",
   "mimetype": "text/x-python",
   "name": "python",
   "nbconvert_exporter": "python",
   "pygments_lexer": "ipython3",
   "version": "3.6.5"
  }
 },
 "nbformat": 4,
 "nbformat_minor": 2
}
